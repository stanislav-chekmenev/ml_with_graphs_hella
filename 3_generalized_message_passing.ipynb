{
 "cells": [
  {
   "cell_type": "code",
   "execution_count": null,
   "metadata": {
    "id": "DFApxvwPg9-A"
   },
   "outputs": [],
   "source": [
    "# Please, make a copy of the notebook before we start.\n",
    "# Turn on the GPU support in the Runtime/Change runtime type.\n",
    "import os\n",
    "import torch\n",
    "os.environ['TORCH'] = torch.__version__\n",
    "print(torch.__version__)\n",
    "\n",
    "# Install Pytorch Geometric and its dependencies\n",
    "!pip install -q torch-scatter -f https://data.pyg.org/whl/torch-${TORCH}.html\n",
    "!pip install -q torch-sparse -f https://data.pyg.org/whl/torch-${TORCH}.html\n",
    "!pip install -q git+https://github.com/pyg-team/pytorch_geometric.git"
   ]
  },
  {
   "cell_type": "markdown",
   "metadata": {
    "id": "r4s_0uj9EtRF"
   },
   "source": [
    "# **[Generalized message passing](https://arxiv.org/abs/1806.01261) and relational inductive bias**\n",
    "\n",
    ">\"Infinite use of finite means\" (Humboldt,1836; Chomsky, 1965)\n",
    "\n",
    "*   Human intellect is able to productively compose complex structures (sentences) using a small set of elements (words).\n",
    "*   *Relational inductive bias* imposes constraints on relationships and interactions among entities in a learning process. It's a prior knowledge one incorporates into a learning algorithm. For example, for a CNN it's locality and **translation invariance**.\n",
    "*   A graph structure imposes a strong relational inductive bias, since during the learning process we heavily utilize the relations between the nodes, which can be of arbitrary nature.\n",
    "*   Message passing algorithms must provide permutation invariance of the nodes, since it doesn't matter from what neighbour we receive the signal first. Therefore, graph neural networks have **permutation invariance**.\n",
    "  - **Example:** compute the centre of mass of the solar system $\\to$ the order of the planets doesn't matter."
   ]
  },
  {
   "cell_type": "markdown",
   "metadata": {
    "id": "0QaAIZZqPLUZ"
   },
   "source": [
    "### **Graph definition:**\n",
    "\n",
    "*   $\\mathcal{G}=(\\mathbf{u}, V,E)$\n",
    "  - $V$: nodes.\n",
    "  - $E$: edges.\n",
    "  - $\\mathbf{u}$: global attribute.\n",
    "*   The graph is:\n",
    "  - Directed.\n",
    "  - Attributed (nodes, edges, global).\n",
    "  - Multi-graph: there can be more than one edge between nodes.\n",
    "\n",
    "**Example:** balls connected by springs in the gravitational field:\n",
    "*   $\\mathbf{u}$ is the total kinetic energy of the system.\n",
    "*   $V= \\{v_k \\}$ is the set of balls, with attributes for position and momentum.\n",
    "*   $E = \\{(\\textbf{e}_k, r_k, s_k)\\}$ is the set of springs connecting the balls, with their corresponding potential energies, $r_k$ and $s_k$ are the indices of the receiver and sender nodes.\n",
    "\n",
    "\n",
    "<center width=\"100%\" style=\"padding:10px\"> <img src =\"https://drive.google.com/uc?id=17jaILJ0oiN9OzwZ6ZowI1hLHowcPBl_3\" width=600 height=275></center>"
   ]
  },
  {
   "cell_type": "markdown",
   "metadata": {
    "id": "ZP0dIieBSAWm"
   },
   "source": [
    "### **GN block update**\n",
    "\n",
    "\\begin{equation}\n",
    "\\begin{aligned}\n",
    "\t\t\\textbf{e}^{'}_{k} = \\phi^e (\\textbf{e}_k, \\, \\textbf{v}_{r_k}, \\, \\textbf{v}_{r_s}, \\, \\textbf{u}) && \\bar{\\textbf{e}}'_{i} = \\rho^{e \\to v} ( E^{'}_i) \\\\\n",
    "    \\textbf{v}^{'}_{i} = \\phi^{v} (\\bar{\\textbf{e}}'_{i}, \\, \\textbf{v}_{i}, \\, \\textbf{u}) \\hspace{1.3cm} &&\n",
    "    \\bar{\\textbf{e}}' = \\rho^{e \\to u} ( E^{'}) \\\\\n",
    "    \\textbf{u}' = \\phi^{u} (\\bar{\\textbf{e}}', \\, \\bar{\\textbf{v}}', \\, \\textbf{u}) \\hspace{1.3cm} &&\n",
    "    \\bar{\\textbf{v}}' =  \\rho^{v \\to u} (V^{'}), \n",
    "\\end{aligned}\n",
    "\\end{equation}\n",
    "\n",
    "where:\n",
    "*   $E^{'}_i = \\{(\\textbf{e}^{'}_k, r_k, s_k)\\}_{r_k = i, k=1:N^{|E|}}$ is the set of all per-edge outputs of the node $i$.\n",
    "*   $E^{'} = \\bigcup E^{'}_i $ is the set of all per-edge outputs.\n",
    "*   $V^{'} = \\{v^{'}_i \\}_{i=1:N^{|V|}}$ is the set of all per-node outputs.\n",
    "\n",
    "Ball system example:\n",
    "\n",
    "1. Update the corresponding forces (edge attributes) between two connected balls.\n",
    "2. Aggregate the edge updates for edges that project to vertex $i$. Sum all the forces acting on a ball $i$.\n",
    "3. Update node attributes, e.g. update a position and a momentum of each ball.\n",
    "4. Aggregate all updated edge attributes. Sum all the forces.\n",
    "5. Aggregate all nodes attributes, which might correspond to calculating the total momentum of the system.\n",
    "6. Update the global attribute, e.g. the kinetic energy of the system.\n",
    "\n",
    "**All different functions $\\phi$ can be arbitrary differentiable functions, e.g. neural networks. And all functions $\\rho$ are aggregation functions, e.g. *sum* or *mean*.** (figure credit - [Peter Battaglia](https://arxiv.org/abs/1806.01261))\n",
    "\n",
    "<center width=\"100%\" style=\"padding:10px\"> <img src =\"https://drive.google.com/uc?id=12I2j2TQtWHWSBZBJ3wYtkZHN45sux62t\" width=700 height=175></center>"
   ]
  },
  {
   "cell_type": "markdown",
   "metadata": {
    "id": "QVZAkGIMaGTL"
   },
   "source": [
    "# **Graph classification with generalized message passing**"
   ]
  },
  {
   "cell_type": "markdown",
   "metadata": {
    "id": "LRQ4yuxZd3OG"
   },
   "source": [
    "*   Classify an entire graph instead of single nodes or edges with a given dataset of multiple graphs.\n",
    "*   Molecular property prediction, in which molecules are represented as graphs. Each atom is linked to a node, and edges in the graph are the bonds between atoms. \n",
    "\n",
    "<center width=\"100%\" style=\"padding:10px\"> <img src =\"https://drive.google.com/uc?id=1o_BXW38qr-9uGGPPGgfghCz7P1OOKpsh\" width=600></center>\n",
    "\n",
    "We will use a slightly modified version of the MUTAG dataset. Let's add a global attribute to each graph and set it to zero.\n",
    "\n",
    "\n"
   ]
  },
  {
   "cell_type": "code",
   "execution_count": null,
   "metadata": {
    "id": "JsvRSAKcMPia"
   },
   "outputs": [],
   "source": [
    "from torch_geometric.datasets import TUDataset\n",
    "\n",
    "def add_global_attr(data):\n",
    "    data.u = torch.tensor([[0]]).to(torch.float32)\n",
    "    return data\n",
    "\n",
    "dataset = TUDataset(root='data/TUDataset', name='MUTAG', transform=add_global_attr)\n",
    "\n",
    "print()\n",
    "print(f'Dataset: {dataset}:')\n",
    "print('====================')\n",
    "print(f'Number of graphs: {len(dataset)}')\n",
    "print(f'Number of features: {dataset.num_features}')\n",
    "print(f'Number of classes: {dataset.num_classes}')\n",
    "\n",
    "data = dataset[0]  # Get the first graph.\n",
    "\n",
    "print()\n",
    "print(data)\n",
    "print('=============================================================')\n",
    "\n",
    "# Gather some statistics about the first graph.\n",
    "print(f'Number of nodes: {data.num_nodes}')\n",
    "print(f'Number of edges: {data.num_edges}')\n",
    "print(f'Average node degree: {data.num_edges / data.num_nodes:.2f}')\n",
    "print(f'Has isolated nodes: {data.has_isolated_nodes()}')\n",
    "print(f'Has self-loops: {data.has_self_loops()}')\n",
    "print(f'Is undirected: {data.is_undirected()}')"
   ]
  },
  {
   "cell_type": "markdown",
   "metadata": {
    "id": "DFIkCvEcolLX"
   },
   "source": [
    "*   Node features are the one-hot encoded atom types.\n",
    "*   Edge features are different types of atom bonds.\n",
    "*   The binary graph labels represent a graph's \"mutagenic effect on a specific gram negative bacterium\". (Not so important for us)\n",
    "*   We added a global attribute to each graph.\n",
    "\n",
    "Let's shuffle the dataset and use the first 150 graphs as training graphs, while using the remaining ones for testing:"
   ]
  },
  {
   "cell_type": "code",
   "execution_count": null,
   "metadata": {
    "id": "xPBLVsjlMRtT"
   },
   "outputs": [],
   "source": [
    "torch.manual_seed(12345)\n",
    "dataset = dataset.shuffle()\n",
    "\n",
    "train_dataset = dataset[:150]\n",
    "test_dataset = dataset[150:]\n",
    "\n",
    "print(f'Number of training graphs: {len(train_dataset)}')\n",
    "print(f'Number of test graphs: {len(test_dataset)}')"
   ]
  },
  {
   "cell_type": "markdown",
   "metadata": {
    "id": "sjmSM1sVqBRq"
   },
   "source": [
    "### **Mini-batching of graphs in PyG**\n",
    "\n",
    "*   Each graph in the batch can have a different number of nodes and edges, and hence we would require a lot of padding to obtain a single tensor. \n",
    "*   Represent $N$ graphs in a batch as a single large graph with concatenated node and edge list.\n",
    "* There is no edge between different graphs.\n",
    "\n",
    "<center width=\"100%\" style=\"padding:10px\"> <img src =\"https://drive.google.com/uc?id=1C5Ob2YQxrMH-Xf55mZ2RNO79q2Rw5E9P\" width=600></center>\n",
    "\n",
    "Advantages over other batching procedures:\n",
    "\n",
    "1. GNN operators that rely on a message passing scheme do not need to be modified since messages are not exchanged between two nodes that belong to different graphs.\n",
    "\n",
    "2. There is no computational or memory overhead since adjacency matrices are saved in a sparse fashion holding only non-zero entries, *i.e.*, the edges.\n",
    "\n",
    "**PyG's Dataloader does batching for us automatically.**"
   ]
  },
  {
   "cell_type": "code",
   "execution_count": null,
   "metadata": {
    "id": "V6gJjanVMTOD"
   },
   "outputs": [],
   "source": [
    "from torch_geometric.loader import DataLoader\n",
    "\n",
    "train_loader = DataLoader(train_dataset, batch_size=64, shuffle=True)\n",
    "test_loader = DataLoader(test_dataset, batch_size=64, shuffle=False)\n",
    "\n",
    "for step, data in enumerate(train_loader):\n",
    "    print(f'Step {step + 1}:')\n",
    "    print('=======')\n",
    "    print(f'Number of graphs in the current batch: {data.num_graphs}')\n",
    "    print(data)\n",
    "    print()"
   ]
  },
  {
   "cell_type": "markdown",
   "metadata": {
    "id": "Biut_wdBsZXo"
   },
   "source": [
    "Each `Batch` object is equipped with a **`batch` vector**, which maps each node to its respective graph in the batch:\n",
    "\n",
    "$$\n",
    "\\textrm{batch} = [ 0, \\ldots, 0, 1, \\ldots, 1, 2, \\ldots ]\n",
    "$$"
   ]
  },
  {
   "cell_type": "markdown",
   "metadata": {
    "id": "Bu2Al-1utajI"
   },
   "source": [
    "### **Graph level predictions**\n",
    "\n",
    "Graph classification in a nutshell:\n",
    "\n",
    "1. Embed each node by performing multiple rounds of message passing.\n",
    "2. Aggregate node embeddings into a unified graph embedding (**readout layer**).\n",
    "3. Train a final classifier on the graph embedding.\n",
    "\n",
    "The most common **readout layers** is to simply take the average of node embeddings:\n",
    "\n",
    "$$\n",
    "\\mathbf{x}_{\\mathcal{G}} = \\frac{1}{|\\mathcal{V}|} \\sum_{v \\in \\mathcal{V}} \\mathcal{z}^{(L)}_v\n",
    "$$\n",
    "\n",
    "We can do it via [`torch_geometric.nn.global_mean_pool`](https://pytorch-geometric.readthedocs.io/en/latest/modules/nn.html#torch_geometric.nn.glob.global_mean_pool)."
   ]
  },
  {
   "cell_type": "markdown",
   "metadata": {
    "id": "eNuF2bsnx06p"
   },
   "source": [
    "### **Train a GN model**\n",
    "\n",
    "Let's create three neural networks for node, edge and global attributes updates. You can check [torch_scatter.scatter_mean](https://pytorch-scatter.readthedocs.io/en/1.3.0/functions/mean.html) function for better understanding.\n"
   ]
  },
  {
   "cell_type": "code",
   "execution_count": null,
   "metadata": {
    "id": "0FzXFP_4yfCZ"
   },
   "outputs": [],
   "source": [
    "from torch_scatter import scatter_mean\n",
    "\n",
    "# TODO: complete the edge, node and global update networks\n",
    "\n",
    "class EdgeModel(torch.nn.Module):\n",
    "    \n",
    "    def __init__(self, hidden_channels):\n",
    "    # TODO: complete together\n",
    "    pass\n",
    "\n",
    "    def forward(self, src, dest, edge_attr, u, batch):\n",
    "    # src, dest: [E, F_x], where E is the number of edges.\n",
    "    # edge_attr: [E, F_e]\n",
    "    # u: [B, F_u], where B is the number of graphs.\n",
    "    # batch: [E] with max entry B - 1.\n",
    "    # TODO: complete together\n",
    "    pass\n",
    "\n",
    "\n",
    "class NodeModel(torch.nn.Module):\n",
    "    \n",
    "    def __init__(self, hidden_channels):\n",
    "    # TODO: complete together\n",
    "    pass\n",
    "\n",
    "\n",
    "    def forward(self, x, edge_index, edge_attr, u, batch):\n",
    "    # x: [N, F_x], where N is the number of nodes in all graphs of the batch.\n",
    "    # edge_index: [2, E] with max entry N - 1.\n",
    "    # edge_attr: [E, F_e]\n",
    "    # u: [B, F_u]\n",
    "    # batch: [N] with max entry B - 1.\n",
    "    # TODO: complete together\n",
    "    pass\n",
    "\n",
    "class GlobalModel(torch.nn.Module):\n",
    "    \n",
    "    def __init__(self, hidden_channels):\n",
    "    # TODO: complete together\n",
    "    pass\n",
    "\n",
    "    def forward(self, node_attr_prime, edge_out_bar, u, batch):\n",
    "    # node_attr_bar: [N, F_x], where N is the number of nodes in the batch.\n",
    "    # edge_attr: [N, F_e]\n",
    "    # u: [B, F_u]\n",
    "    # batch: [N] with max entry B - 1.\n",
    "    # Average all node attributes for each graph, using batch tensor. \n",
    "    # TODO: complete together\n",
    "    pass"
   ]
  },
  {
   "cell_type": "markdown",
   "metadata": {
    "id": "kwQDNkbt6dFQ"
   },
   "source": [
    "Then let's write the GN class that takes 3 update models as its' arguments. `num_passes` is the number of times we perform node, edge, global updates."
   ]
  },
  {
   "cell_type": "code",
   "execution_count": null,
   "metadata": {
    "id": "GY22vszgaEvP"
   },
   "outputs": [],
   "source": [
    "from torch_geometric.nn import global_mean_pool\n",
    "\n",
    "class GN(torch.nn.Module):\n",
    "  \n",
    "    def __init__(self, edge_model, node_model, global_model, num_passes):\n",
    "        super().__init__()\n",
    "        torch.manual_seed(12345)\n",
    "        self.edge_model = edge_model\n",
    "        self.node_model = node_model\n",
    "        self.global_model = global_model\n",
    "        num_features = dataset.num_features + dataset.num_edge_features\n",
    "        num_features += dataset[0].u.size(1)\n",
    "        self.lin = torch.nn.Linear(num_features, dataset.num_classes)\n",
    "        self.num_passes = num_passes\n",
    "        self.reset_parameters()\n",
    "\n",
    "    def reset_parameters(self):\n",
    "        for item in [self.node_model, self.edge_model, self.global_model]:\n",
    "            if hasattr(item, 'reset_parameters'):\n",
    "                item.reset_parameters()\n",
    "\n",
    "      # TODO: write the forward pass together\n",
    "      def __repr__(self) -> str:\n",
    "          return (f'{self.__class__.__name__}(\\n'\n",
    "                  f'  edge_model={self.edge_model},\\n'\n",
    "                  f'  node_model={self.node_model},\\n'\n",
    "                  f'  global_model={self.global_model}\\n'\n",
    "                  f')')"
   ]
  },
  {
   "cell_type": "markdown",
   "metadata": {
    "id": "nQvY5EWFPAoj"
   },
   "source": [
    "So we can start training:"
   ]
  },
  {
   "cell_type": "code",
   "execution_count": null,
   "metadata": {
    "id": "IorF01wyMXra"
   },
   "outputs": [],
   "source": [
    "from IPython.display import Javascript\n",
    "display(Javascript('''google.colab.output.setIframeHeight(0, true, {maxHeight: 300})'''))\n",
    "\n",
    "edge_model, node_model, global_model = EdgeModel(64), NodeModel(64), GlobalModel(64)\n",
    "NUM_PASSES = 3\n",
    "\n",
    "gn_model = GN(edge_model, node_model, global_model, NUM_PASSES)\n",
    "optimizer = torch.optim.Adam(gn_model.parameters(), lr=0.01)\n",
    "loss_function = torch.nn.CrossEntropyLoss()\n",
    "\n",
    "print(gn_model)\n",
    "torch.manual_seed(12345)\n",
    "\n",
    "def train():\n",
    "    gn_model.train()\n",
    "\n",
    "    for data in train_loader: # Iterate over the batches of grahs\n",
    "        out = gn_model(data.x, data.edge_attr, data.u, data.edge_index, data.batch)  # Forward pass(es)\n",
    "        loss = loss_function(out, data.y)  # Compute the loss\n",
    "        loss.backward() # Compute the gradients\n",
    "        optimizer.step()  # Update the weights based on the computed gradients\n",
    "        optimizer.zero_grad() # Clear the computed gradients\n",
    "\n",
    "def test(loader):\n",
    "    gn_model.eval()\n",
    "\n",
    "    correct = 0\n",
    "    for data in loader:  \n",
    "        out = gn_model(data.x, data.edge_attr, data.u, data.edge_index, data.batch)  # Iterate over the batches \n",
    "        pred = out.argmax(dim=1)  # Predict the labels using the label with the highest probability\n",
    "        correct += int((pred == data.y).sum())  # Check against the ground truth\n",
    "    return correct / len(loader.dataset) # Compute accuracy\n",
    "\n",
    "for epoch in range(1, 120):\n",
    "    train()\n",
    "    train_acc = test(train_loader)\n",
    "    test_acc = test(test_loader)\n",
    "    print(f'Epoch: {epoch:03d}, Train Acc: {train_acc:.4f}, Test Acc: {test_acc:.4f}')"
   ]
  },
  {
   "cell_type": "markdown",
   "metadata": {
    "id": "F2w3bA9S7oaU"
   },
   "source": [
    "The reasons for the fluctations in accuracy can be explained by the rather small dataset (only 38 test graphs), and usually disappear once one applies GNNs to larger datasets."
   ]
  },
  {
   "cell_type": "markdown",
   "metadata": {
    "id": "bmhMGL16Ai7V"
   },
   "source": [
    "### **Exercise 3.1: Play around with the GN block**\n",
    "\n",
    "Since, it's our last exercise for today, let's make it relaxed.\n",
    "\n",
    "*   Check how the accuracy changes when you increase the number of passes. \n",
    "  - **hint:** set to 1, 3, 5, 10. \n",
    "  - What do you observe? Do you have an idea why?\n",
    "*   Feel free to play around with the architectures of the update networks:\n",
    "  - You can add more layers, more neurons, change dropout, etc. See how the result changes.\n",
    "  - You can swap `scatter_mean` with `scatter_sum`, `scatter_max`, `scatter_min`. Do you see any change in the result?"
   ]
  }
 ],
 "metadata": {
  "accelerator": "GPU",
  "colab": {
   "authorship_tag": "ABX9TyMekaYfs4/nDZMDxiYdhH0j",
   "collapsed_sections": [],
   "provenance": []
  },
  "kernelspec": {
   "display_name": "Python 3 (ipykernel)",
   "language": "python",
   "name": "python3"
  },
  "language_info": {
   "codemirror_mode": {
    "name": "ipython",
    "version": 3
   },
   "file_extension": ".py",
   "mimetype": "text/x-python",
   "name": "python",
   "nbconvert_exporter": "python",
   "pygments_lexer": "ipython3",
   "version": "3.8.5"
  }
 },
 "nbformat": 4,
 "nbformat_minor": 4
}
