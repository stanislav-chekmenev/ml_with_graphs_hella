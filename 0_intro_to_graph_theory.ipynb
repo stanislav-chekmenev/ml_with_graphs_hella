{
 "cells": [
  {
   "cell_type": "markdown",
   "metadata": {
    "id": "OycSIdZvWIwV"
   },
   "source": [
    "# **Introduction**"
   ]
  },
  {
   "cell_type": "markdown",
   "metadata": {
    "id": "szeFzrw0enQe"
   },
   "source": [
    "#### **Graph**\n",
    "\n",
    "A typical graph example is shown below:\n",
    "\n",
    "<left width=\"100%\" style=\"padding:10px\">  <img src = \"pictures/simple_graph.png\" width=\"300px\"></left>\n"
   ]
  },
  {
   "cell_type": "markdown",
   "metadata": {
    "id": "zZ6Jmq7IkMK8"
   },
   "source": [
    "#### **Various types of data which are graphs**\n",
    "\n",
    "*   Computer networks.\n",
    "<img src = \"pictures/computer_networking.jpg\" width=\"250\" height=\"150\" align=\"center\">\n",
    "\n",
    "*   Road networks.\n",
    "<img src = \"pictures/rome_road_network.png\" width=\"250\" height=\"200\" align=\"center\">\n",
    "\n",
    "*   Social networks.\n",
    "<img src = \"pictures/social_network.jpg\" width=\"250\" height=\"150\" align=\"center\">\n",
    "\n",
    "*   Protein-protein interaction networks.\n",
    "<img src = \"pictures/protein_protein_network.png\" width=\"250\" height=\"200\" align=\"center\">\n",
    "\n"
   ]
  },
  {
   "cell_type": "markdown",
   "metadata": {
    "id": "Maw1abO8sepi"
   },
   "source": [
    "Modelling data as a graph:\n",
    "\n",
    "> *   *Many data domains have a rich relational structure that can be represented as a graph.*\n",
    "*   *Explicit modeling of the relationships allows to achieve better performance.*\n",
    "\n",
    "\n",
    "\n",
    "\n"
   ]
  },
  {
   "cell_type": "markdown",
   "metadata": {
    "id": "dC-JdknO1_dW"
   },
   "source": [
    "### **Typical deep learning tool box is designed for sequences and grids**\n",
    "\n",
    "\n",
    "*   Image (2D-grid) $\\to$ CNN.\n",
    "<figure>\n",
    "<img src = \"pictures/grid.png\" width=\"600\" align=\"center\">\n",
    "</figure>\n",
    "*   Text/Speech/Sequential data (1D-grid) $\\to$ RNN-like architectures.\n",
    "<figure>\n",
    "<img src = \"pictures/sequence.png\" width=\"600\" align=\"center\">\n",
    "</figure>\n",
    "\n",
    "\n",
    "**<font color='red'>Not everything can be represented as a sequence or a grid!</font>**\n",
    "\n",
    "*   For irregular structured data $\\to$ graph $\\to$ graph neural networks.\n",
    "<figure>\n",
    "<img src = \"pictures/graph_cnn.png\" width=\"600\" align=\"center\">\n",
    "</figure>\n",
    "\n"
   ]
  },
  {
   "cell_type": "markdown",
   "metadata": {
    "id": "zgQ8K_3MLbTJ"
   },
   "source": [
    "# **ML tasks with graphs**\n",
    "\n",
    "<figure>\n",
    "<img src = \"pictures/graph_tasks.png\" width=\"450\" align=\"center\">\n",
    "</figure>\n",
    "\n",
    "*   Node classification: predict a property of a node.\n",
    "  - **Example**: categorize users of a social network. \n",
    "*   Edge prediction: predict if there are edges between two nodes.\n",
    "  - **Example**: Knowledge graph completion.\n",
    "*   Graph classification: categorize different graphs.\n",
    "  - **Example**: Molecule property prediction.\n",
    "*   Clustering: Find nodes that form communities.\n",
    "  - **Example**: Social circle detection.\n",
    "*   Graph generation:\n",
    "  - **Example**: Drug discovery.\n",
    "*   Graph evolution: \n",
    "  - **Example**: Simulation of physical processes.\n"
   ]
  },
  {
   "cell_type": "markdown",
   "metadata": {
    "id": "7M3Zei9rp8ag"
   },
   "source": [
    "# **Real life examples**\n",
    "\n",
    "### [DeepMind's AlphaFold](https://www.deepmind.com/research/highlighted-research/alphafold)\n",
    "\n",
    "- Prediction of a 3D structure of proteins, using sequences of amino acids as graphs.\n",
    "- It can help discover new drugs or find enzymes that could clean the atmosphere or help dissolve plastic waste.\n",
    "\n",
    "<img src = \"pictures/alphafold.jpg\" width=\"400\" align=\"center\">\n",
    "</figure>\n",
    "\n",
    "\n",
    "### [Google's ETA prediction](https://arxiv.org/abs/2108.11482)\n",
    "\n",
    "- Prediction of ETA based on traffic conditions, where road segments are represented via graphs. Nodes are segments of roads and edges are connections between the segments.\n",
    "- Used in Google Maps in many places around the world and improved estimated arrival times by around 40% depending on the location.\n",
    "\n",
    "<img src = \"pictures/eta_google.png\" width=\"400\" align=\"center\">\n",
    "</figure>\n",
    "\n",
    "\n",
    "### [Amazon's real time fraud detection](https://www.amazon.science/blog/how-aws-uses-graph-neural-networks-to-meet-customer-needs)\n",
    "\n",
    "- Built a massive graph with the data from e-commerce sites, where the nodes represented users, products, purchases, etc. and the edges connected nodes based on usage history.\n",
    "- Improved their existing fraud detection mechanism by a factor of 10!\n",
    "\n",
    "<img src = \"pictures/fraud_detection.png\" width=\"400\" align=\"center\">\n",
    "</figure>\n",
    "\n",
    "\n",
    "### Some other examples:\n",
    "\n",
    "- Amazon and United Airlines made better their [automatic information extraction from self-uploaded travel documents](https://aws.amazon.com/solutions/case-studies/united-airlines-2021-reinvent-video/) with convolutional GNNs.\n",
    "- MIT used GNNs to improve [robots' abilities to interact with liquids and solid objects](https://news.mit.edu/2019/robots-object-manipulation-particle-simulator-0417).\n",
    "- Decathlon Canada builds their [recommender systems based on GNNs](https://medium.com/decathlontechnology/building-a-recommender-system-using-graph-neural-networks-2ee5fc4e706d)."
   ]
  },
  {
   "cell_type": "markdown",
   "metadata": {
    "id": "O6o0mRUzKXZR"
   },
   "source": [
    "# **Basics of the graph theory**\n",
    "\n",
    "#### **Undirected and directed homogeneous graphs**\n",
    "\n",
    "Mathematically, a homogeneous graph $\\mathcal{G}$ is defined as a tuple of a set of nodes/vertices $V$, and a set of edges/links $E$: $\\mathcal{G}=(V,E)$. Each edge is represented by a pair of two nodes, and serves as a connection between them. \n",
    "\n",
    "- Undirected graphs: friendships on Facebook, collaborations between universities.\n",
    "- Directed graphs: phone calls, followers on Twitter.\n",
    "\n",
    "<center width=\"100%\" style=\"padding:10px\"> <img src =\"pictures/graph_dir_undir.png\" width=\"600px\"></center>\n",
    "\n",
    " - Vertices: $V=\\{1,2,3,4\\}$\n",
    " - Edges for undirected: $E_{undir}=\\{(1,2), (2,3), (2,4), (3,4)\\}$\n",
    " - Edges for directed: $E_{dir}=\\{(1,2), (2,3), (3,4), (4,2)\\}$\n",
    "\n",
    "\n",
    "#### **Adjacency matrix** \n",
    "\n",
    "Edges can be represented by an adjacency matrix $A$.\n",
    "\n",
    "\\begin{equation}\n",
    "  \\begin{aligned}\n",
    "  A_{undir} = \n",
    "  \\begin{bmatrix}\n",
    "    0 & \\color{red}1 & 0 & 0\\\\\n",
    "    \\color{red}1 & 0 & \\color{red}1 & \\color{red}1\\\\\n",
    "    0 & \\color{red}1 & 0 & \\color{red}1\\\\\n",
    "    0 & \\color{red}1 & \\color{red}1 & 0\n",
    "\\end{bmatrix} &&\n",
    "  A_{dir} = \\begin{bmatrix}\n",
    "    0 & \\color{red}1 & 0 & 0\\\\\n",
    "    0 & 0 & \\color{red}1 & 0\\\\\n",
    "    0 & 0 & 0 & \\color{red}1\\\\\n",
    "    0 & \\color{red}1 & 0 & 0\n",
    "\\end{bmatrix}\n",
    "  \\end{aligned}\n",
    "\\end{equation}\n",
    "\n",
    "\n",
    "*The matrix is symmetric for an undirected graph and asymmetric for a directed one.*\n",
    "\n",
    "#### **Node degree**\n",
    "\n",
    "- A degree $k_i$ of a node $i$ is the number of edges adjacent to the node $i$ for an undirected graph.\n",
    "- For a directed graph, one defines an in-degree, $k^{in}_i$, and out-degree, $k^{out}$.       \n",
    "Therefore, $k_i = k^{in}_i + k^{out}_i$\n",
    "\n",
    "\\begin{equation}\n",
    "  \\begin{aligned}\n",
    "   k_{2} = \\sum_{j=1}^4 A_{2j} = \\sum_{i=1}^4 A_{i2} = 3 && \n",
    "   k^{in}_{2} = \\sum_{j=1}^4 A_{2j} = 1, \\, k^{out}_{2} = \\sum_{i=1}^4 A_{i2} = 2\n",
    "  \\end{aligned}\n",
    "\\end{equation}\n",
    "\n",
    "- Node degree matrix $D$ for an undirected graph is a diagonal matrix which contains information about the degree of each vertex:\n",
    "\n",
    "\\begin{equation}\n",
    "  D = \n",
    "  \\begin{bmatrix}\n",
    "    \\color{red}1 & 0 & 0 & 0\\\\\n",
    "    0 & \\color{red}3 & 0 & 0\\\\\n",
    "    0 & 0 & \\color{red}2 & 0\\\\\n",
    "    0 & 0 & 0 & \\color{red}2\n",
    "\\end{bmatrix}\n",
    "\\end{equation}\n",
    "\n",
    "\n",
    "#### **Total number of edges**\n",
    "\n",
    "\n",
    "\\begin{equation}\n",
    "  \\begin{aligned}\n",
    "   E_{undir} = \\frac{1}{2} \\sum_{i, j=1}^N A_{ij} && \n",
    "   E_{dir} = \\sum_{i, j=1}^N A_{ij}\n",
    "  \\end{aligned}\n",
    "\\end{equation}\n",
    "\n",
    "#### **Average node degree**\n",
    "\n",
    "\\begin{equation}\n",
    "  \\begin{aligned}\n",
    "   \\langle k \\rangle_{undir} = \\frac{2E}{N} && \n",
    "   \\langle k^{in} \\rangle = \\langle k^{out} \\rangle = \\frac{E}{N}\n",
    "  \\end{aligned}\n",
    "\\end{equation}\n",
    "\n",
    "\n",
    "\n"
   ]
  },
  {
   "cell_type": "markdown",
   "metadata": {
    "id": "85SZzYxuYQfG"
   },
   "source": [
    "#### **Most real world networks are sparse ($\\color{blue}{\\langle k \\rangle << N}$)**\n",
    "\n",
    "\n",
    "<center width=\"100%\" style=\"padding:10px\"> <img src =\"pictures/real_world_graphs.png\" width=\"800px\"></center>\n",
    "\n",
    "#### **<font color=\"green\">As a result, adjacency matrices are mostly filled with zeros. So graphs are usually represented as lists of edges because it saves memory, is cheaper to compute and easier to use.</font>**\n"
   ]
  },
  {
   "cell_type": "markdown",
   "metadata": {
    "id": "bImM5rhDABek"
   },
   "source": [
    "#### **Graph attributes**\n",
    "\n",
    "Nodes and edges can have attributes:\n",
    "\n",
    "-   Examples of node attributes:\n",
    "      - type (friend, relative, co-worker)\n",
    "      - ranking (best friend, second best friend)\n",
    "      - sign (friend or foe, trust or distrust)\n",
    "      - properties depending on the structure of the graph (number of common friends)\n",
    "\n",
    "-   Examples of edge attributes:\n",
    "      - weight (frequency of communication)\n",
    "      - distance (distance between friends' cities)\n",
    "\n"
   ]
  },
  {
   "cell_type": "markdown",
   "metadata": {
    "id": "LbshQJSkD6NC"
   },
   "source": [
    "#### **More types of homogeneous graphs**\n",
    "\n",
    "##### **Weighted graph**\n",
    "\n",
    "<center width=\"100%\" style=\"padding:10px\"> <img src =\"pictures/weighted_graph.png\" width=\"400px\"></center>\n",
    "\n",
    "\n",
    "\\begin{equation}\n",
    "\\begin{aligned}\n",
    "  A = \n",
    "  \\begin{bmatrix}\n",
    "    0 & \\color{red}{0.5} & 0 & 0\\\\\n",
    "    \\color{red}{0.5} & 0 & \\color{red}2 & \\color{red}1\\\\\n",
    "    0 & \\color{red}2 & 0 & \\color{red}{1.5} \\\\\n",
    "    0 & \\color{red}1 & \\color{red}{1.5} & 0\n",
    "  \\end{bmatrix} &&\n",
    "  E = \\frac{1}{2} \\sum_{i, j=1}^N A_{ij} && \n",
    "  \\langle k \\rangle = \\frac{2E}{N}\n",
    "\\end{aligned}\n",
    "\\end{equation}\n",
    "\n",
    "##### **Self-loops**\n",
    "\n",
    "<center width=\"100%\" style=\"padding:10px\"> <img src =\"pictures/graph_self_loops.png\" width=\"400px\" height=\"250px\"></center>\n",
    "\n",
    "\n",
    "\\begin{equation}\n",
    "\\begin{aligned}\n",
    "  A = \n",
    "  \\begin{bmatrix}\n",
    "    \\color{green}1 & \\color{red}{1} & 0 & 0\\\\\n",
    "    \\color{red}{1} & 0 & \\color{red}1 & \\color{red}1\\\\\n",
    "    0 & \\color{red}1 & 0 & \\color{red}{1} \\\\\n",
    "    0 & \\color{red}1 & \\color{red}{1} & \\color{green}1\n",
    "  \\end{bmatrix} &&\n",
    "  E = \\frac{1}{2} \\sum_{i, j=1, i \\neq j}^N A_{ij}  + \\sum_{i=1}^N A_{i,i}&& \n",
    "  \\langle k \\rangle = \\frac{2E}{N} - \\frac{\\sum_{i=1}^N A_{i,i}}{N}\n",
    "\\end{aligned}\n",
    "\\end{equation}\n",
    "\n",
    "##### **Multi-graph**\n",
    "\n",
    "\n",
    "<center width=\"100%\" style=\"padding:10px\"> <img src =\"pictures/multigraph.png\" width=\"375px\" height=\"315px\"></center>\n",
    "\n",
    "\n",
    "\\begin{equation}\n",
    "\\begin{aligned}\n",
    "  A = \n",
    "  \\begin{bmatrix}\n",
    "    0 & \\color{green}{2} & 0 & 0\\\\\n",
    "    \\color{green}{2} & 0 & \\color{red}1 & \\color{green}3\\\\\n",
    "    0 & \\color{red}1 & 0 & \\color{red}{1} \\\\\n",
    "    0 & \\color{green}3 & \\color{red}{1} & 0\n",
    "  \\end{bmatrix} &&\n",
    "  E = \\frac{1}{2} \\sum_{i, j=1}^N A_{ij}&& \n",
    "  \\langle k \\rangle = \\frac{2E}{N}\n",
    "\\end{aligned}\n",
    "\\end{equation}\n",
    "\n",
    "\n"
   ]
  },
  {
   "cell_type": "markdown",
   "metadata": {
    "id": "GdGPrgptrh5O"
   },
   "source": [
    "#### **Graph connectivity**\n",
    "\n",
    "\n",
    ">*  *A path is a route that runs along the edges of the graph.*\n",
    "* *A path’s length represents the number of edges the path contains.*\n",
    "\n",
    "##### **Connectivity of undirected graphs**\n",
    "\n",
    "*   The graph is connected if any two vertices can be joined by a path.\n",
    "*   A disconnected graph is made up by several connected components that can be arranged in blocks along the main diagonal of the adjacency matrix.\n",
    "\n",
    "<center width=\"100%\" style=\"padding:10px\"> <img src =\"pictures/disconneted_graphs.png\" width=\"600px\" height=\"100px\"></center>\n",
    "\n",
    "\n",
    "\\begin{equation}\n",
    "  \\begin{aligned}\n",
    "  A = \n",
    "  \\begin{bmatrix}\n",
    "    0 & \\color{red}1 & \\color{red}1 & 0 & 0 & 0 & 0 \\\\\n",
    "    \\color{red}1 & 0 & \\color{red}1 & 0 & 0 & 0 & 0  \\\\\n",
    "    \\color{red}1 & \\color{red}1 & 0 & 0 & 0 & 0 & 0 \\\\\n",
    "    0 & 0 & 0 & 0 & \\color{red}1 & 0 & 0 \\\\\n",
    "    0 & 0 & 0 & \\color{red}1 & 0 & \\color{red}1 & \\color{red}1 \\\\\n",
    "    0 & 0 & 0 & 0 & \\color{red}1 & 0 & \\color{red}1 \\\\\n",
    "    0 & 0 & 0 & 0 & \\color{red}1 & \\color{red}1 & 0 \\\\\n",
    "\\end{bmatrix} &&\n",
    "  A = \\begin{bmatrix}\n",
    "    0 & \\color{red}1 & \\color{red}1 & 0 & 0 & 0 & 0 \\\\\n",
    "    \\color{red}1 & 0 & \\color{red}1 & \\color{green}1 & 0 & 0 & 0  \\\\\n",
    "    \\color{red}1 & \\color{red}1 & 0 & 0 & 0 & 0 & 0 \\\\\n",
    "    0 & \\color{green}1 & 0 & 0 & \\color{red}1 & 0 & 0 \\\\\n",
    "    0 & 0 & 0 & \\color{red}1 & 0 & \\color{red}1 & \\color{red}1 \\\\\n",
    "    0 & 0 & 0 & 0 & \\color{red}1 & 0 & \\color{red}1 \\\\\n",
    "    0 & 0 & 0 & 0 & \\color{red}1 & \\color{red}1 & 0 \\\\\n",
    "\\end{bmatrix}\n",
    "  \\end{aligned}\n",
    "\\end{equation}\n"
   ]
  },
  {
   "cell_type": "markdown",
   "metadata": {
    "id": "mI5BQWE3rIUe"
   },
   "source": [
    "### **Heterogeneous graphs**\n",
    "\n",
    "*   A heterogeneous graph is defined as $\\mathcal{G}=(V,E, R, T)$\n",
    "      - nodes with node types $v_i \\in V$\n",
    "      - edges with relation types $(v_i, r, v_j) \\in E$\n",
    "      - relation types $r \\in R$\n",
    "      - node types $T(v_i)$\n",
    "\n",
    "\n",
    "* Many real graphs are heterogeneous:\n",
    "\n",
    "<center width=\"100%\" style=\"padding:10px\"> <img src =\"pictures/biomedical-knowledge-graph.png\" width=\"400px\"></center>\n",
    "\n",
    "      - Node example: Parkinson's disease.\n",
    "      - Edge example: (Gene PINK1, leads, Parkinson's disease).\n",
    "      - Node type example: disease.\n",
    "      - Edge type (relation) example: leads\n",
    "\n",
    "#### **Adjacency tensor**\n",
    "\n",
    "> *An adjacency tensor is a generalization of an adjacency matrix. One can visualize it as a cube consisting of layers of adjacency matricies with each layer corresponding to a different edge type.*\n",
    "\n",
    "<center width=\"100%\" style=\"padding:10px\"> <img src =\"pictures/adjacency_tenso.png\" width=\"400px\"></center>\n",
    "\n",
    "\n",
    "\n",
    "\\begin{equation}\n",
    "\\begin{aligned}\n",
    "  A \\in R^{|V| \\times |R| \\times |V|}\n",
    "\\end{aligned}\n",
    "\\end{equation}"
   ]
  },
  {
   "cell_type": "markdown",
   "metadata": {
    "id": "JgHLr4FZ8hS7"
   },
   "source": [
    "## **Summary**\n",
    "\n",
    "*   Different types of data as graphs.\n",
    "*   Machine learning with graphs.\n",
    "*   The basics of graph theory\n",
    "\n"
   ]
  }
 ],
 "metadata": {
  "colab": {
   "authorship_tag": "ABX9TyNihbR7hbwEBNBVtktwzGCR",
   "collapsed_sections": [],
   "name": "0_intro_to_graph_theory.ipynb",
   "provenance": []
  },
  "kernelspec": {
   "display_name": "Python 3 (ipykernel)",
   "language": "python",
   "name": "python3"
  },
  "language_info": {
   "codemirror_mode": {
    "name": "ipython",
    "version": 3
   },
   "file_extension": ".py",
   "mimetype": "text/x-python",
   "name": "python",
   "nbconvert_exporter": "python",
   "pygments_lexer": "ipython3",
   "version": "3.8.5"
  }
 },
 "nbformat": 4,
 "nbformat_minor": 4
}
